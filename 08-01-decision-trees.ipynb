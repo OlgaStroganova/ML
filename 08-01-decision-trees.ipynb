{
 "cells": [
  {
   "cell_type": "markdown",
   "metadata": {},
   "source": [
    "# Домашняя работа 8. Деревья решений. (32 балла)\n",
    "\n",
    "1. Скачайте этот ноутбук к себе.\n",
    "2. Заполните пропущенные ячейки, отвечая на заданные вопросы. Там должен быть код! (если не сказано обратное)\n",
    "3. Сохраните результат в своём гитхаб репозитории.\n",
    "4. Пришлите на почту ml-teachers ссылку на этот файл в вашем репозитории.\n",
    "5. В теме письма указать `ML Homework #8: Name Surname`. Если тема будет неправильная, то задание не будет проверено.\n",
    "6. Дедлайн: 18.12.2017 01:00 OMSK\n",
    "7. После дедлайна можно сдать, но вы получите штраф по баллам в рейтинге.\n",
    "\n",
    "Рассылка решений: 25.12.2017 17:00 OMSK\n",
    "После рассылки задания почти совсем не имеют веса.\n",
    "\n",
    "## Полезная литература\n",
    "\n",
    "- [Habrahabr: ODS деревья решений](https://habrahabr.ru/company/ods/blog/322534/#derevo-resheniy)\n",
    "- [ВМК МГУ семинары по решающим деревьям](https://github.com/esokolov/ml-course-msu/blob/master/ML16/lecture-notes/Sem04_trees.pdf)\n",
    "- [Sklearn Decision Trees](http://scikit-learn.org/stable/modules/tree.html)"
   ]
  },
  {
   "cell_type": "markdown",
   "metadata": {},
   "source": [
    "## 1. Сравнение моделей деревьев\n",
    "\n",
    "В этом блоке вы сравните разные конфигурации композиции деревьев:\n",
    "- DecisionTree\n",
    "- Bagging\n",
    "- Bagging с другими настройками подбора признаков для разбиения\n",
    "- RandomForest\n",
    "\n",
    "Будем использовать [датасет с винишком](https://archive.ics.uci.edu/ml/datasets/wine+quality) - это задача то ли классификации то ли регресси - нужно предсказывать качество вина. Будем думать что это классификация.\n",
    "\n",
    "![](https://upload.wikimedia.org/wikipedia/en/thumb/7/7c/Lulz_Security.svg/300px-Lulz_Security.svg.png)"
   ]
  },
  {
   "cell_type": "markdown",
   "metadata": {},
   "source": [
    "### 1.1 Чтение данных (1 балла)\n",
    "\n",
    "Данные лежат как обычно в `'../../data/winequality-red.csv.gz'`.\n",
    "\n",
    "- Прочитайте их с помощью pandas\n",
    "- нарисуйте countplot целевого признака `quality`.\n",
    "- Что вы думаете по поводу количества представителей каждого класса.\n",
    "- Разбейте данные на X и y."
   ]
  },
  {
   "cell_type": "code",
   "execution_count": 3,
   "metadata": {
    "collapsed": true
   },
   "outputs": [],
   "source": [
    "import pandas as pd\n",
    "import numpy as np\n",
    "from matplotlib import pyplot as plt\n",
    "import seaborn as sns\n",
    "%matplotlib inline"
   ]
  },
  {
   "cell_type": "code",
   "execution_count": 4,
   "metadata": {},
   "outputs": [
    {
     "data": {
      "text/html": [
       "<div>\n",
       "<style>\n",
       "    .dataframe thead tr:only-child th {\n",
       "        text-align: right;\n",
       "    }\n",
       "\n",
       "    .dataframe thead th {\n",
       "        text-align: left;\n",
       "    }\n",
       "\n",
       "    .dataframe tbody tr th {\n",
       "        vertical-align: top;\n",
       "    }\n",
       "</style>\n",
       "<table border=\"1\" class=\"dataframe\">\n",
       "  <thead>\n",
       "    <tr style=\"text-align: right;\">\n",
       "      <th></th>\n",
       "      <th>fixed acidity</th>\n",
       "      <th>volatile acidity</th>\n",
       "      <th>citric acid</th>\n",
       "      <th>residual sugar</th>\n",
       "      <th>chlorides</th>\n",
       "      <th>free sulfur dioxide</th>\n",
       "      <th>total sulfur dioxide</th>\n",
       "      <th>density</th>\n",
       "      <th>pH</th>\n",
       "      <th>sulphates</th>\n",
       "      <th>alcohol</th>\n",
       "      <th>quality</th>\n",
       "    </tr>\n",
       "  </thead>\n",
       "  <tbody>\n",
       "    <tr>\n",
       "      <th>0</th>\n",
       "      <td>7.4</td>\n",
       "      <td>0.70</td>\n",
       "      <td>0.00</td>\n",
       "      <td>1.9</td>\n",
       "      <td>0.076</td>\n",
       "      <td>11.0</td>\n",
       "      <td>34.0</td>\n",
       "      <td>0.9978</td>\n",
       "      <td>3.51</td>\n",
       "      <td>0.56</td>\n",
       "      <td>9.4</td>\n",
       "      <td>5</td>\n",
       "    </tr>\n",
       "    <tr>\n",
       "      <th>1</th>\n",
       "      <td>7.8</td>\n",
       "      <td>0.88</td>\n",
       "      <td>0.00</td>\n",
       "      <td>2.6</td>\n",
       "      <td>0.098</td>\n",
       "      <td>25.0</td>\n",
       "      <td>67.0</td>\n",
       "      <td>0.9968</td>\n",
       "      <td>3.20</td>\n",
       "      <td>0.68</td>\n",
       "      <td>9.8</td>\n",
       "      <td>5</td>\n",
       "    </tr>\n",
       "    <tr>\n",
       "      <th>2</th>\n",
       "      <td>7.8</td>\n",
       "      <td>0.76</td>\n",
       "      <td>0.04</td>\n",
       "      <td>2.3</td>\n",
       "      <td>0.092</td>\n",
       "      <td>15.0</td>\n",
       "      <td>54.0</td>\n",
       "      <td>0.9970</td>\n",
       "      <td>3.26</td>\n",
       "      <td>0.65</td>\n",
       "      <td>9.8</td>\n",
       "      <td>5</td>\n",
       "    </tr>\n",
       "    <tr>\n",
       "      <th>3</th>\n",
       "      <td>11.2</td>\n",
       "      <td>0.28</td>\n",
       "      <td>0.56</td>\n",
       "      <td>1.9</td>\n",
       "      <td>0.075</td>\n",
       "      <td>17.0</td>\n",
       "      <td>60.0</td>\n",
       "      <td>0.9980</td>\n",
       "      <td>3.16</td>\n",
       "      <td>0.58</td>\n",
       "      <td>9.8</td>\n",
       "      <td>6</td>\n",
       "    </tr>\n",
       "    <tr>\n",
       "      <th>4</th>\n",
       "      <td>7.4</td>\n",
       "      <td>0.70</td>\n",
       "      <td>0.00</td>\n",
       "      <td>1.9</td>\n",
       "      <td>0.076</td>\n",
       "      <td>11.0</td>\n",
       "      <td>34.0</td>\n",
       "      <td>0.9978</td>\n",
       "      <td>3.51</td>\n",
       "      <td>0.56</td>\n",
       "      <td>9.4</td>\n",
       "      <td>5</td>\n",
       "    </tr>\n",
       "  </tbody>\n",
       "</table>\n",
       "</div>"
      ],
      "text/plain": [
       "   fixed acidity  volatile acidity  citric acid  residual sugar  chlorides  \\\n",
       "0            7.4              0.70         0.00             1.9      0.076   \n",
       "1            7.8              0.88         0.00             2.6      0.098   \n",
       "2            7.8              0.76         0.04             2.3      0.092   \n",
       "3           11.2              0.28         0.56             1.9      0.075   \n",
       "4            7.4              0.70         0.00             1.9      0.076   \n",
       "\n",
       "   free sulfur dioxide  total sulfur dioxide  density    pH  sulphates  \\\n",
       "0                 11.0                  34.0   0.9978  3.51       0.56   \n",
       "1                 25.0                  67.0   0.9968  3.20       0.68   \n",
       "2                 15.0                  54.0   0.9970  3.26       0.65   \n",
       "3                 17.0                  60.0   0.9980  3.16       0.58   \n",
       "4                 11.0                  34.0   0.9978  3.51       0.56   \n",
       "\n",
       "   alcohol  quality  \n",
       "0      9.4        5  \n",
       "1      9.8        5  \n",
       "2      9.8        5  \n",
       "3      9.8        6  \n",
       "4      9.4        5  "
      ]
     },
     "execution_count": 4,
     "metadata": {},
     "output_type": "execute_result"
    }
   ],
   "source": [
    "df = pd.read_csv('data/winequality-red.csv.gz', delimiter = ';')\n",
    "df.head()"
   ]
  },
  {
   "cell_type": "code",
   "execution_count": 5,
   "metadata": {},
   "outputs": [
    {
     "data": {
      "image/png": "[encoded data removed]",
      "text/plain": [
       "<matplotlib.figure.Figure at 0x226bee52f98>"
      ]
     },
     "metadata": {},
     "output_type": "display_data"
    }
   ],
   "source": [
    "sns.countplot(x='quality', data=df);"
   ]
  },
  {
   "cell_type": "code",
   "execution_count": 8,
   "metadata": {},
   "outputs": [
    {
     "name": "stdout",
     "output_type": "stream",
     "text": [
      "count    1599.000000\n",
      "mean        5.636023\n",
      "std         0.807569\n",
      "Name: quality, dtype: float64\n"
     ]
    },
    {
     "data": {
      "text/plain": [
       "5    0.425891\n",
       "6    0.398999\n",
       "7    0.124453\n",
       "4    0.033146\n",
       "8    0.011257\n",
       "3    0.006254\n",
       "Name: quality, dtype: float64"
      ]
     },
     "execution_count": 8,
     "metadata": {},
     "output_type": "execute_result"
    }
   ],
   "source": [
    "dfq = df.quality\n",
    "print(dfq.describe()[:3])\n",
    "dfq.value_counts()/dfq.shape[0]"
   ]
  },
  {
   "cell_type": "markdown",
   "metadata": {},
   "source": [
    "Больше 82% объектов представляют средние оценки качества - это 5 и 6 (примерно в равных долях).\n",
    "Чуть меньше 14% - качество выше среднего (оценки 7 и 8, причем 7 на порядок больше, чем 8).\n",
    "Остальное, около 4% - качество ниже среднего (оценки 4 и 3). Оценки низшего (0,1,2) и высшего качества (9,10) отсутсвуют вовсе. "
   ]
  },
  {
   "cell_type": "code",
   "execution_count": 9,
   "metadata": {},
   "outputs": [],
   "source": [
    "X = df.copy()\n",
    "X.drop(df.columns[-1], axis=1, inplace=True)\n",
    "y = dfq"
   ]
  },
  {
   "cell_type": "markdown",
   "metadata": {},
   "source": [
    "### 1.2 Сравнение моделей (4 балла)\n",
    "\n",
    "Задача классификации. Все признаки уже числовые. Значит можно пробовать просто все модели и выбрать лучшую. Так и поступим, сделайте кросс валидацию на 5 фолдах, используя `sklearn.model_selection.KFold` как аргумент у `cross_val_score`. Метрика качества будет `accuracy`.\n",
    "\n",
    "Алгоритмы для тестирования:\n",
    "- KNeighborsClassifier с 10 соседями\n",
    "- KNeighborsClassifier с 10 соседями и масштабированием StandartScaler\n",
    "- RidgeClassifier\n",
    "- DecisionTreeClassifier \n",
    "- BaggingClassifier c 100 деревьев\n",
    "- BaggingClassifier с 100 деревьев и каждое дерево обучается только по половине случайно выбранных признаков (см аргументы)\n",
    "- RandomForestClassifier c 100 деревьев\n",
    "\n",
    "Выведите среднее значение метрики качества для каждого из классификаторов. \n",
    "\n",
    "**hint**: каждый следующий алгоритм, будет показывать качество лучше, чем предыдущий. Если у вас не так - то что-то вы делаете неправильно. Везде зафиксируйте random_state=42."
   ]
  },
  {
   "cell_type": "code",
   "execution_count": 37,
   "metadata": {
    "collapsed": true
   },
   "outputs": [],
   "source": [
    "from sklearn.model_selection import cross_val_score\n",
    "\n",
    "from sklearn.model_selection import KFold \n",
    "kfold = KFold(n_splits=5, shuffle=True, random_state=42)"
   ]
  },
  {
   "cell_type": "code",
   "execution_count": 56,
   "metadata": {},
   "outputs": [
    {
     "name": "stdout",
     "output_type": "stream",
     "text": [
      "Accuracy KNeighborsClassifier: 0.5122198275862069\n",
      "StdAccuracy KNeighborsClassifier: 0.02646141016093271\n"
     ]
    }
   ],
   "source": [
    "from sklearn.neighbors import KNeighborsClassifier\n",
    "clf = KNeighborsClassifier(n_neighbors=10,  n_jobs=-1)\n",
    "\n",
    "scores = cross_val_score(clf, X, y, cv=kfold, scoring='accuracy')\n",
    "print(\"Accuracy KNeighborsClassifier: {}\".format(scores.mean()))\n",
    "print(\"StdAccuracy KNeighborsClassifier: {}\".format(scores.std()))"
   ]
  },
  {
   "cell_type": "code",
   "execution_count": 55,
   "metadata": {},
   "outputs": [
    {
     "name": "stdout",
     "output_type": "stream",
     "text": [
      "Accuracy KNeighborsClassifier with StandartScaler: 0.5797531347962382\n",
      "StdAccuracy KNeighborsClassifier with StandartScaler: 0.014703387246407617\n"
     ]
    }
   ],
   "source": [
    "from sklearn.preprocessing import StandardScaler\n",
    "scaler = StandardScaler() \n",
    "\n",
    "scores_sc = cross_val_score(clf, scaler.fit(X).transform(X), y, cv=kfold, scoring='accuracy')\n",
    "print(\"Accuracy KNeighborsClassifier with StandartScaler: {}\".format(scores_sc.mean()))\n",
    "print(\"StdAccuracy KNeighborsClassifier with StandartScaler: {}\".format(scores_sc.std()))"
   ]
  },
  {
   "cell_type": "code",
   "execution_count": 54,
   "metadata": {},
   "outputs": [
    {
     "name": "stdout",
     "output_type": "stream",
     "text": [
      "Accuracy RidgeClassifier: 0.5835384012539185\n",
      "StdAccuracy RidgeClassifier: 0.03996649901617024\n"
     ]
    }
   ],
   "source": [
    "from sklearn.linear_model import RidgeClassifier\n",
    "rclf = RidgeClassifier(random_state=42)\n",
    "\n",
    "scores_r = cross_val_score(rclf, X, y, cv=kfold, scoring='accuracy')\n",
    "print(\"Accuracy RidgeClassifier: {}\".format(scores_r.mean()))\n",
    "print(\"StdAccuracy RidgeClassifier: {}\".format(scores_r.std()))"
   ]
  },
  {
   "cell_type": "code",
   "execution_count": 53,
   "metadata": {},
   "outputs": [
    {
     "name": "stdout",
     "output_type": "stream",
     "text": [
      "Accuracy DecisionTreeClassifier: 0.6185207680250783\n",
      "StdAccuracy DecisionTreeClassifier: 0.03447258606453839\n"
     ]
    }
   ],
   "source": [
    "from sklearn.tree import DecisionTreeClassifier\n",
    "tclf = DecisionTreeClassifier(criterion='gini', random_state=42)\n",
    "\n",
    "scores_t = cross_val_score(tclf, X, y, cv=kfold, scoring='accuracy')\n",
    "print(\"Accuracy DecisionTreeClassifier: {}\".format(scores_t.mean()))\n",
    "print(\"StdAccuracy DecisionTreeClassifier: {}\".format(scores_t.std()))"
   ]
  },
  {
   "cell_type": "code",
   "execution_count": 52,
   "metadata": {},
   "outputs": [
    {
     "name": "stdout",
     "output_type": "stream",
     "text": [
      "Accuracy BaggingClassifier: 0.6954604231974921\n",
      "StdAccuracy BaggingClassifier: 0.03094218455257584\n"
     ]
    }
   ],
   "source": [
    "from sklearn.ensemble import BaggingClassifier\n",
    "bclf = BaggingClassifier(n_estimators=100, random_state=42)\n",
    "\n",
    "scores_b = cross_val_score(bclf, X, y, cv=kfold, scoring='accuracy')\n",
    "print(\"Accuracy BaggingClassifier: {}\".format(scores_b.mean()))\n",
    "print(\"StdAccuracy BaggingClassifier: {}\".format(scores_b.std()))"
   ]
  },
  {
   "cell_type": "code",
   "execution_count": 137,
   "metadata": {},
   "outputs": [
    {
     "name": "stdout",
     "output_type": "stream",
     "text": [
      "Accuracy BaggingClassifier2: 0.6992163009404389\n",
      "StdAccuracy BaggingClassifier2: 0.024966088618518425\n"
     ]
    }
   ],
   "source": [
    "b2clf = BaggingClassifier(n_estimators=100, max_features=0.5, random_state=42)\n",
    "\n",
    "scores_b2 = cross_val_score(b2clf, X, y, cv=kfold, scoring='accuracy')\n",
    "print(\"Accuracy BaggingClassifier2: {}\".format(scores_b2.mean()))\n",
    "print(\"StdAccuracy BaggingClassifier2: {}\".format(scores_b2.std()))"
   ]
  },
  {
   "cell_type": "code",
   "execution_count": 50,
   "metadata": {},
   "outputs": [
    {
     "name": "stdout",
     "output_type": "stream",
     "text": [
      "Accuracy RandomForestClassifier: 0.7010913009404389\n",
      "StdAccuracy RandomForestClassifier: 0.02870367053847068\n"
     ]
    }
   ],
   "source": [
    "from sklearn.ensemble import RandomForestClassifier\n",
    "rfclf = RandomForestClassifier(n_estimators=100, random_state=42)\n",
    "\n",
    "scores_rf = cross_val_score(rfclf, X, y, cv=kfold, scoring='accuracy')\n",
    "print(\"Accuracy RandomForestClassifier: {}\".format(scores_rf.mean()))\n",
    "print(\"StdAccuracy RandomForestClassifier: {}\".format(scores_rf.std()))"
   ]
  },
  {
   "cell_type": "markdown",
   "metadata": {},
   "source": [
    "### 1.3 Рассуждения (8 баллов)\n",
    "\n",
    "Ответьте на вопросы развернуто, можете полистать литературу:\n",
    "\n",
    "- почему наблюдается значимая разница в качестве у KNeighborsClassifier с масштабированием и без\n",
    "- почему масштабирование не важно для деревьев решений\n",
    "- почему бэггинг на половине признаков для каждого дерева дал качество предсказания больше, чем на всех? (а он дал!)\n",
    "- у какой модели наибольшей отклонение от среднего качества предсказаний? А почему??"
   ]
  },
  {
   "cell_type": "markdown",
   "metadata": {
    "collapsed": true
   },
   "source": [
    "При масштабировании признаков параметры в прогнозной формуле модели будут сопоставимы по весу. То есть, влияние каждого из признаков на прогноз будет оптимальным, \"перекоса\" в сторону численно бОльших признаков не будет, а это в свою очередь улучшает качество предсказания по сравнению с моделью, построенной на немасштабированных признаках.\n",
    "\n",
    "В деревьях разбиения данных происходят по каждому из важных признаков отдельно и не зависят от масштаба (шкалы) этих признаков. Следовательно, масштабирование признаков не даст какого-либо эффекта улучшения предсказания в этом случае.\n",
    "\n",
    "Меньшее количество признаков, используемых при построении каждого из деревьев, уменьшает переобучение. Кроме того,  набор признаков в каждом дереве разный, и это тоже улучшает обобщающую способность. В итоге качество предсказания оказывается лучше, чем с использованием всего набора признаков."
   ]
  },
  {
   "cell_type": "code",
   "execution_count": 96,
   "metadata": {},
   "outputs": [
    {
     "name": "stdout",
     "output_type": "stream",
     "text": [
      "наибольшей отклонение от среднего качества предсказаний у  RidgeClassifier\n"
     ]
    }
   ],
   "source": [
    "ls = {'KNeighborsClassifier' : scores.std(), 'KNeighborsClassifier with StandartScaler' : scores_sc.std(), \n",
    "      'RidgeClassifier': scores_r.std(), 'DecisionTreeClassifier' : scores_t.std(), \n",
    "      'BaggingClassifier' : scores_b.std(), 'BaggingClassifier2' : scores_b2.std(), \n",
    "      'RandomForestClassifier' :scores_rf.std()\n",
    "     }\n",
    "i=np.argmax(list(ls.values()))\n",
    "print('наибольшее отклонение от среднего качества предсказаний у ', list(ls.keys())[i])"
   ]
  },
  {
   "cell_type": "markdown",
   "metadata": {},
   "source": [
    "Возможно, уменьшить это отклонение поможет подбор другого коэффициента регуляризации в параметрах RidgeClassifier."
   ]
  },
  {
   "cell_type": "markdown",
   "metadata": {},
   "source": [
    "## 2 Переобучение и Ко\n",
    "\n",
    "В последнем задании вы уже заметили, что случайный лес может вести себя немного нестабильно. В этом задании мы возьмем опять датасет MNIST(простите) и будем его решать деревьями. Почему мы взяли его? Потому что в нем фактически много разных признаков (значения пикселей в пространстве), а деревья строятсья делая разбиения по признакам. Обычно на эти разбиения не обращают внимание, так как главное что тюнят - это глубина дереьвев, количество деревьев, а кучу других параметров обходят стороной, так как они \"неясные\". Попробуем прояснить их."
   ]
  },
  {
   "cell_type": "markdown",
   "metadata": {},
   "source": [
    "### 2.1 Загрузка датасета (1 балл)\n",
    "\n",
    "Загрузите датасет с помощью функции `sklearn.datasets.load_digits`. В нем будут 64px картинки в векторной форме.\n",
    "\n",
    "Нарисуйте первые 10 цифр в одной ячейке, чтобы было красиво."
   ]
  },
  {
   "cell_type": "code",
   "execution_count": 115,
   "metadata": {},
   "outputs": [
    {
     "name": "stdout",
     "output_type": "stream",
     "text": [
      "(1797, 64)\n"
     ]
    },
    {
     "data": {
      "text/plain": [
       "<matplotlib.figure.Figure at 0x226c2e3f518>"
      ]
     },
     "metadata": {},
     "output_type": "display_data"
    },
    {
     "data": {
      "image/png": "[encoded data removed]",
      "text/plain": [
       "<matplotlib.figure.Figure at 0x226c1b4ecf8>"
      ]
     },
     "metadata": {},
     "output_type": "display_data"
    }
   ],
   "source": [
    "from sklearn.datasets import load_digits\n",
    "digits = load_digits()\n",
    "print(digits.data.shape)\n",
    "\n",
    "plt.gray() \n",
    "plt.matshow(digits.images[0])\n",
    "plt.show()"
   ]
  },
  {
   "cell_type": "code",
   "execution_count": 110,
   "metadata": {},
   "outputs": [
    {
     "data": {
      "image/png": "[encoded data removed]",
      "text/plain": [
       "<matplotlib.figure.Figure at 0x226c296a0f0>"
      ]
     },
     "metadata": {},
     "output_type": "display_data"
    }
   ],
   "source": [
    "fig, axes = plt.subplots(2, 5, figsize=(10, 5),  subplot_kw={'xticks':(), 'yticks': ()}) \n",
    "for ax, img in zip(axes.ravel(), digits.images):     \n",
    "    ax.imshow(img) "
   ]
  },
  {
   "cell_type": "code",
   "execution_count": null,
   "metadata": {
    "collapsed": true
   },
   "outputs": [],
   "source": []
  },
  {
   "cell_type": "code",
   "execution_count": null,
   "metadata": {
    "collapsed": true
   },
   "outputs": [],
   "source": []
  },
  {
   "cell_type": "markdown",
   "metadata": {},
   "source": [
    "### 2.2 Перебор классификаторов (3 балла)\n",
    "\n",
    "В этом задании вам снова придется перебрать несколько классификаторов, но теперь мы обратим внимание на другие гиперпараметры и их влияние на качество классификации, кстати опять `accuracy`.\n",
    "\n",
    "Сделайте кроссвалидацию на 10 фолдах, указав `cv=10` для следующих классификаторов:\n",
    "\n",
    "- DecisionTreeClassifier с параметрами по-умолчанию\n",
    "- BaggingClassifier с 100 деревьвев\n",
    "- BaggingClassifier с 100 деревьев, НО с ограничением на максимальное количество признаков, участвующих при обучении каждого из деревьев в $\\sqrt{N}$, где $N$ - это число признаков.\n",
    "- BaggingClassifier с 100 деревьев, НО с ограничением на количество признаков участвующих в разбиении для каждого из деревьев в $\\sqrt{N}$, где $N$ - это число признаков. Это отличается от предыдущей модели тем, где ограничивается `max_features`. Читайте документацию :trollface:\n",
    "- обычный случайный лес со 100 деревьями"
   ]
  },
  {
   "cell_type": "code",
   "execution_count": 120,
   "metadata": {},
   "outputs": [
    {
     "name": "stdout",
     "output_type": "stream",
     "text": [
      "Accuracy DecisionTreeClassifier: 0.8370850802141552\n",
      "StdAccuracy DecisionTreeClassifier: 0.04023050598893108\n"
     ]
    }
   ],
   "source": [
    "scores_t_dig = cross_val_score(tclf, digits.data, digits.target, cv=10, scoring='accuracy')\n",
    "print(\"Accuracy DecisionTreeClassifier: {}\".format(scores_t_dig.mean()))\n",
    "print(\"StdAccuracy DecisionTreeClassifier: {}\".format(scores_t_dig.std()))"
   ]
  },
  {
   "cell_type": "code",
   "execution_count": 121,
   "metadata": {},
   "outputs": [
    {
     "name": "stdout",
     "output_type": "stream",
     "text": [
      "Accuracy BaggingClassifier: 0.9266223799121667\n",
      "StdAccuracy BaggingClassifier: 0.0333050023022444\n"
     ]
    }
   ],
   "source": [
    "scores_b_dig = cross_val_score(bclf, digits.data, digits.target, cv=10, scoring='accuracy')\n",
    "print(\"Accuracy BaggingClassifier: {}\".format(scores_b_dig.mean()))\n",
    "print(\"StdAccuracy BaggingClassifier: {}\".format(scores_b_dig.std()))"
   ]
  },
  {
   "cell_type": "code",
   "execution_count": 171,
   "metadata": {},
   "outputs": [
    {
     "name": "stdout",
     "output_type": "stream",
     "text": [
      "0.125\n"
     ]
    },
    {
     "data": {
      "text/plain": [
       "0.02358989248105358"
      ]
     },
     "execution_count": 171,
     "metadata": {},
     "output_type": "execute_result"
    }
   ],
   "source": [
    "max_features = np.sqrt(digits.data.shape[1])/digits.data.shape[1]\n",
    "print(max_features)\n",
    "max_samples = np.sqrt(digits.data.shape[0])/digits.data.shape[0]\n",
    "max_samples"
   ]
  },
  {
   "cell_type": "code",
   "execution_count": 145,
   "metadata": {},
   "outputs": [
    {
     "name": "stdout",
     "output_type": "stream",
     "text": [
      "Accuracy BaggingClassifier2: 0.9311692335245662\n",
      "StdAccuracy BaggingClassifier2: 0.035212933332060735\n"
     ]
    }
   ],
   "source": [
    "b2clf_dig = BaggingClassifier(n_estimators=100, max_features=max_features, random_state=42)\n",
    "\n",
    "scores_b2_dig = cross_val_score(b2clf_dig, digits.data, digits.target, cv=10, scoring='accuracy')\n",
    "print(\"Accuracy BaggingClassifier2: {}\".format(scores_b2_dig.mean()))\n",
    "print(\"StdAccuracy BaggingClassifier2: {}\".format(scores_b2_dig.std()))"
   ]
  },
  {
   "cell_type": "code",
   "execution_count": 147,
   "metadata": {},
   "outputs": [
    {
     "name": "stdout",
     "output_type": "stream",
     "text": [
      "Accuracy BaggingClassifier2: 0.8842805311704337\n",
      "StdAccuracy BaggingClassifier2: 0.03511104888573251\n"
     ]
    }
   ],
   "source": [
    "b2clf_dig = BaggingClassifier(n_estimators=100, max_samples=max_samples, random_state=42)\n",
    "\n",
    "scores_b2_dig = cross_val_score(b2clf_dig, digits.data, digits.target, cv=10, scoring='accuracy')\n",
    "print(\"Accuracy BaggingClassifier2: {}\".format(scores_b2_dig.mean()))\n",
    "print(\"StdAccuracy BaggingClassifier2: {}\".format(scores_b2_dig.std()))"
   ]
  },
  {
   "cell_type": "code",
   "execution_count": 143,
   "metadata": {},
   "outputs": [
    {
     "name": "stdout",
     "output_type": "stream",
     "text": [
      "Accuracy RandomForestClassifier: 0.9533106688723997\n",
      "StdAccuracy RandomForestClassifier: 0.020680012777850015\n"
     ]
    }
   ],
   "source": [
    "scores_rf_dig = cross_val_score(rfclf, digits.data, digits.target, cv=10, scoring='accuracy')\n",
    "print(\"Accuracy RandomForestClassifier: {}\".format(scores_rf_dig.mean()))\n",
    "print(\"StdAccuracy RandomForestClassifier: {}\".format(scores_rf_dig.std()))"
   ]
  },
  {
   "cell_type": "markdown",
   "metadata": {},
   "source": [
    "### 2.3 В чём разница? (3 балла)\n",
    "\n",
    "Ответье на вопрос: \n",
    "Странно то как? Почему ограничение на количество признаков в разбиении дерева и ограничение в количестве признаков для построения каждого дерева в BaggingClasifier дало СОВСЕМ разный результат в качестве предсказания? В чем магия?\n",
    "\n",
    "![](https://i.ytimg.com/vi/_5GWMIAHc08/hqdefault.jpg)"
   ]
  },
  {
   "cell_type": "markdown",
   "metadata": {
    "collapsed": true
   },
   "source": [
    "Параметр max_features задает кол-во случайно выбираемых признаков при расщеплении дерева в каждом узле: по одному из этих признаков дерево и будет расщепляться в конкретном узле. То есть, max_features задает кол-во ПРИЗНАКОВ, участвующих в РАЗБИЕНИИ дерева. А что вы имели ввиду под максимальным кол-вом признаков, участвующих в обучении?\n",
    "\n",
    "Не нашла, какой параметр BaggingClassifier отвечает за максимальное кол-во ПРИЗНАКОВ, участвующих при ОБУЧЕНИИ каждого дерева, поэтому изменила max_samples - он отвечает за размер бутстреп-выборки обучения каждого дерева. \n",
    "\n",
    "В данном случае ограничение бутстреп-выборки сработало хуже, чем ограничение кол-ва признаков в разбиении.\n",
    "Видимо деревья, построенные на маленьких бутстреп-выборках и полном множестве признаков меньше различаются между собой, чем деревья, построенные на небольших подмножествах признаков и полной выборке примеров. Качество же модели предсказания тем лучше, чем более различные деревья используются при обучении. "
   ]
  },
  {
   "cell_type": "markdown",
   "metadata": {},
   "source": [
    "### 2.4 Количество деревьев (2 балла)\n",
    "\n",
    "Сделайте перебор количества деревьев для `RandomForestClassifier`. Сохраните качества кросс валидации на 10 фолдах для `[1,5,10,15,50,100,150,200,300]` количества деревьев. Нарисуйте график, где по оси x - количество деревьев, а по оси y - качество. При каком количестве деревьев получается самое хорошее качество?"
   ]
  },
  {
   "cell_type": "code",
   "execution_count": 173,
   "metadata": {},
   "outputs": [
    {
     "name": "stdout",
     "output_type": "stream",
     "text": [
      "Accuracy RandomForestClassifier with number trees 1: 0.7616357335517535\n",
      "Accuracy RandomForestClassifier with number trees 5: 0.8837028696742983\n",
      "Accuracy RandomForestClassifier with number trees 10: 0.9272021217853512\n",
      "Accuracy RandomForestClassifier with number trees 15: 0.9417178614258364\n",
      "Accuracy RandomForestClassifier with number trees 50: 0.9550113864646358\n",
      "Accuracy RandomForestClassifier with number trees 100: 0.9533106688723997\n",
      "Accuracy RandomForestClassifier with number trees 150: 0.9483315557062137\n",
      "Accuracy RandomForestClassifier with number trees 200: 0.9499738687012123\n",
      "Accuracy RandomForestClassifier with number trees 300: 0.9516229909014159\n"
     ]
    }
   ],
   "source": [
    "trees = [1,5,10,15,50,100,150,200,300]\n",
    "scores_rfc = []\n",
    "for i in trees:\n",
    "    rfclf = RandomForestClassifier(n_estimators=i, random_state=42)\n",
    "    scores_rfc.append(cross_val_score(rfclf, digits.data, digits.target, cv=10, scoring='accuracy').mean())\n",
    "    print(\"Accuracy RandomForestClassifier with number trees {0}: {1}\".format(i, scores_rfc[-1]))"
   ]
  },
  {
   "cell_type": "code",
   "execution_count": 174,
   "metadata": {},
   "outputs": [
    {
     "name": "stdout",
     "output_type": "stream",
     "text": [
      "Cамое хорошее качество 0.9550113864646358 получается при 50 деревьях\n"
     ]
    },
    {
     "data": {
      "image/png": "[encoded data removed]",
      "text/plain": [
       "<matplotlib.figure.Figure at 0x226c2b91be0>"
      ]
     },
     "metadata": {},
     "output_type": "display_data"
    }
   ],
   "source": [
    "plt.plot(trees, scores_rfc)\n",
    "\n",
    "plt.title('RandomForestClassifie accuracy')\n",
    "plt.xlabel('number of trees')\n",
    "plt.ylabel('Accuracy')\n",
    "\n",
    "print('Cамое хорошее качество {0} получается при {1} деревьях'.format(np.max(scores_rfc), trees[np.argmax(scores_rfc)]))"
   ]
  },
  {
   "cell_type": "markdown",
   "metadata": {},
   "source": [
    "### 2.5 Количество признаков  (2 балла)\n",
    "\n",
    "Переберите теперь максимальное количество признаков для `RandomForestClassifier` на 100 деревьях, от 1 до 64 с шагом 5. Постройте график качества по кроссвалидации на 10 фолдах."
   ]
  },
  {
   "cell_type": "code",
   "execution_count": 168,
   "metadata": {},
   "outputs": [
    {
     "name": "stdout",
     "output_type": "stream",
     "text": [
      "Accuracy RandomForestClassifier with max_features 1: 0.9516677940478291\n",
      "Accuracy RandomForestClassifier with max_features 6: 0.953933310762423\n",
      "Accuracy RandomForestClassifier with max_features 11: 0.9493848946768569\n",
      "Accuracy RandomForestClassifier with max_features 16: 0.9483527505184675\n",
      "Accuracy RandomForestClassifier with max_features 21: 0.9455129700361912\n",
      "Accuracy RandomForestClassifier with max_features 26: 0.947165576736286\n",
      "Accuracy RandomForestClassifier with max_features 31: 0.9421185369636189\n",
      "Accuracy RandomForestClassifier with max_features 36: 0.9415557417601939\n",
      "Accuracy RandomForestClassifier with max_features 41: 0.943772229797925\n",
      "Accuracy RandomForestClassifier with max_features 46: 0.9377141633937913\n",
      "Accuracy RandomForestClassifier with max_features 51: 0.9344113386204496\n",
      "Accuracy RandomForestClassifier with max_features 56: 0.9287774082264129\n",
      "Accuracy RandomForestClassifier with max_features 61: 0.9255022817409175\n"
     ]
    }
   ],
   "source": [
    "max_features = np.arange(1, digits.data.shape[1]+1, 5)\n",
    "scores_rfc = []\n",
    "for i in max_features:\n",
    "    rfclf = RandomForestClassifier(n_estimators=100, max_features=i, random_state=42)\n",
    "    scores_rfc.append(cross_val_score(rfclf, digits.data, digits.target, cv=10, scoring='accuracy').mean())\n",
    "    print(\"Accuracy RandomForestClassifier with max_features {0}: {1}\".format(i, scores_rfc[-1]))"
   ]
  },
  {
   "cell_type": "code",
   "execution_count": 169,
   "metadata": {},
   "outputs": [
    {
     "data": {
      "text/plain": [
       "<matplotlib.text.Text at 0x226c2baa940>"
      ]
     },
     "execution_count": 169,
     "metadata": {},
     "output_type": "execute_result"
    },
    {
     "data": {
      "image/png": "[encoded data removed]",
      "text/plain": [
       "<matplotlib.figure.Figure at 0x226c2533ac8>"
      ]
     },
     "metadata": {},
     "output_type": "display_data"
    }
   ],
   "source": [
    "plt.plot(max_features, scores_rfc)\n",
    "\n",
    "plt.title('RandomForestClassifie accuracy')\n",
    "plt.xlabel('max_features')\n",
    "plt.ylabel('Accuracy')"
   ]
  },
  {
   "cell_type": "markdown",
   "metadata": {},
   "source": [
    "### 2.5 Вопросы по RandomForest (8 баллов)\n",
    "\n",
    "Ответьте на вопросы:\n",
    "\n",
    "- Что происходит с ростом числа деревьев у случайного леса. Можно ли просто всегда брать 5000 деревьев и быть счастливым?\n",
    "- Как зависит качество предсказания в дереве в зависимости от max_features?\n",
    "- Почему качество зависит от max_features?\n",
    "- Как глубина деревьев влияет на качество случайного леса?"
   ]
  },
  {
   "cell_type": "markdown",
   "metadata": {},
   "source": [
    "С ростом числа деревьев случайного леса снижается переобучение и, как следствие, улучшается качество, но когда деревьев слишком много серьезно возрастают временные затраты и объем используемой памяти. Поэтому 5000 деревьев вряд ли смогут всегда осчастливить исследователя - нужно задавать оптимальное кол-во деревьев с учетом затрат по времени и памяти. \n",
    "\n",
    "С уменьшением значения max_features улучшается качество также, как и с ростом числа деревьев, за счет снижения переобучения, поскольку деревья получаются разнообразными по набору признаков в разбиениях.\n",
    "\n",
    "max_depth - опция предварительной обрезки деревьев задает глубину построения дерева, чтобы предотвратить переобучение, что, в свою очередь, улучшит качество предсказания. Чем глубже дерево, тем правильнее оно работает на обучающей выборке, но хуже обобщает результат на новых данных. Ограничение глубины дерева улучшит тестовую правильность, правда за счет снижения обучающей правильности."
   ]
  },
  {
   "cell_type": "markdown",
   "metadata": {},
   "source": []
  },
  {
   "cell_type": "markdown",
   "metadata": {},
   "source": [
    "![](https://habrastorage.org/web/ad8/366/a44/ad8366a4469346c6b2e1306495b05d1a.jpg)"
   ]
  }
 ],
 "metadata": {
  "kernelspec": {
   "display_name": "Python 3",
   "language": "python",
   "name": "python3"
  },
  "language_info": {
   "codemirror_mode": {
    "name": "ipython",
    "version": 3
   },
   "file_extension": ".py",
   "mimetype": "text/x-python",
   "name": "python",
   "nbconvert_exporter": "python",
   "pygments_lexer": "ipython3",
   "version": "3.6.2"
  }
 },
 "nbformat": 4,
 "nbformat_minor": 2
}
